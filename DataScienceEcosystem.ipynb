{
 "cells": [
  {
   "cell_type": "markdown",
   "id": "c83449f0-ccf0-4480-b2dd-e5d8bfff11e8",
   "metadata": {},
   "source": [
    "# Data Science Tools and Ecosystem"
   ]
  },
  {
   "cell_type": "markdown",
   "id": "8cbfbfa1-cfdc-47d2-9eda-650e1056b9b4",
   "metadata": {},
   "source": [
    "In this notebook, we provide an overview of the Data Science Tools and Ecosystem, exploring key components and their interrelationships."
   ]
  },
  {
   "cell_type": "markdown",
   "id": "120e2806-e4dd-4673-b4e2-8b0fe9198185",
   "metadata": {},
   "source": [
    "**Objectives:**\n",
    "\n",
    "* Introduce the Data Science Tools and Ecosystem\n",
    "* List popular languages for Data Science\n",
    "* List commonly used libraries in Data Science\n",
    "* Introduce Data Science tools\n",
    "* Demonstrate basic arithmetic operations in Python\n"
   ]
  },
  {
   "cell_type": "markdown",
   "id": "833c818e-693b-4ea7-aa7a-fd811ceefcb7",
   "metadata": {},
   "source": [
    "Some of the popular languages that Data Scientists use are:\n",
    "\n",
    "1. Python\n",
    "2. R\n",
    "3. SQL"
   ]
  },
  {
   "cell_type": "markdown",
   "id": "ae5efc0f-a8d6-4e8e-96f2-69e5a0e0ecc4",
   "metadata": {},
   "source": [
    "Some of the commonly used libraries used by Data Scientists include:\n",
    "\n",
    "1. Pandas\n",
    "2. NumPy\n",
    "3. Matplotlib"
   ]
  },
  {
   "cell_type": "markdown",
   "id": "70cf822a-1ed9-4338-8842-8d6f6f6ffe8b",
   "metadata": {},
   "source": [
    "| Data Science Tools |\n",
    "|---|---|\n",
    "| Jupyter Notebook |\n",
    "| RStudio |\n",
    "| Visual Studio Code |\n"
   ]
  },
  {
   "cell_type": "markdown",
   "id": "28bf45ef-aab0-45de-8f2d-d918bfd02c5e",
   "metadata": {},
   "source": [
    "### Below are a few examples of evaluating arithmetic expressions in Python.\n"
   ]
  },
  {
   "cell_type": "code",
   "execution_count": 18,
   "id": "a58ecccc-2f83-44f6-9756-0640754cfd86",
   "metadata": {},
   "outputs": [
    {
     "name": "stdout",
     "output_type": "stream",
     "text": [
      "17\n"
     ]
    }
   ],
   "source": [
    "# This is a simple arithmetic expression to multiply then add integers.\n",
    "result = (3 * 4) + 5\n",
    "print(result)\n"
   ]
  },
  {
   "cell_type": "code",
   "execution_count": 20,
   "id": "2a3c0e96-cde6-440d-8a80-0dbd6c4c3570",
   "metadata": {},
   "outputs": [
    {
     "name": "stdout",
     "output_type": "stream",
     "text": [
      "3.3333333333333335\n"
     ]
    }
   ],
   "source": [
    "# This will convert 200 minutes to hours by dividing by 60.\n",
    "hours = 200 / 60\n",
    "print(hours)\n"
   ]
  },
  {
   "cell_type": "markdown",
   "id": "fd9b7939-9921-46d5-941e-3b9f2db81997",
   "metadata": {},
   "source": [
    "## Author \n",
    "Ahmed Louay Araour"
   ]
  },
  {
   "cell_type": "code",
   "execution_count": null,
   "id": "05a4b9ab-5201-4002-b30c-78f71185fa4a",
   "metadata": {},
   "outputs": [],
   "source": []
  }
 ],
 "metadata": {
  "kernelspec": {
   "display_name": "Python 3 (ipykernel)",
   "language": "python",
   "name": "python3"
  },
  "language_info": {
   "codemirror_mode": {
    "name": "ipython",
    "version": 3
   },
   "file_extension": ".py",
   "mimetype": "text/x-python",
   "name": "python",
   "nbconvert_exporter": "python",
   "pygments_lexer": "ipython3",
   "version": "3.12.4"
  }
 },
 "nbformat": 4,
 "nbformat_minor": 5
}
